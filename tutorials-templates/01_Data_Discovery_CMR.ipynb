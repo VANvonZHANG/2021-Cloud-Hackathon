{
  "cells": [
    {
      "cell_type": "markdown",
      "metadata": {
        "id": "view-in-github",
        "colab_type": "text"
      },
      "source": [
        "<a href=\"https://colab.research.google.com/github/VANvonZHANG/2021-Cloud-Hackathon/blob/main/tutorials-templates/01_Data_Discovery_CMR.ipynb\" target=\"_parent\"><img src=\"https://colab.research.google.com/assets/colab-badge.svg\" alt=\"Open In Colab\"/></a>"
      ]
    },
    {
      "cell_type": "markdown",
      "metadata": {
        "id": "cypbowT087v8"
      },
      "source": [
        "# 01. Data discovery with CMR\n",
        "\n",
        "In this tutorial you will learn:\n",
        "- what CMR is;  \n",
        "- how to use the `requests` package to search data collections and granules;  \n",
        "- how to parse the results of these searches.\n",
        "\n",
        "\n",
        "We will focus on datasets in the cloud.  Currently, DAACs with data in the cloud are 'ASF', 'GES_DISC', 'GHRC_DAAC', 'LPCLOUD', 'ORNL_CLOUD', 'POCLOUD'\n",
        "\n",
        "## What is CMR\n",
        "CMR is the Common Metadata Repository.  It catalogs all data for NASA's Earth Observing System Data and Information System (EOSDIS).  It is the backend of [Earthdata Search](https://search.earthdata.nasa.gov/search), the GUI search interface you are probably familiar with.  More information about CMR can be found [here](https://earthdata.nasa.gov/eosdis/science-system-description/eosdis-components/cmr).\n",
        "\n",
        "Unfortunately, the GUI for Earthdata Search is not accessible from a cloud instance - at least not without some work.  Earthdata Search is also not immediately reproducible.  What I mean by that is if you create a search using the GUI you would have to note the search criteria (date range, search area, collection name, etc), take a screenshot, copy the search url, or save the list of data granules returned by the search, in order to recreate the search.  This information would have to be re-entered each time you or someone else wanted to do the search.  You could make typos or other mistakes.  A cleaner, reproducible solution is to search CMR programmatically using the CMR API.\n",
        "\n",
        "## What is the CMR API\n",
        "API stands for Application Programming Interface.  It allows applications (software, services, etc) to send information to each other.  A helpful analogy is a waiter in a restaurant.  The waiter takes your drink or food order that you select from the menu, often translated into short-hand, to the bar or kitchen, and then returns (hopefully) with what you ordered when it is ready.\n",
        "\n",
        "The CMR API accepts search terms such as collection name, keywords, datetime range, and location, queries the CMR database and returns the results.\n",
        "\n",
        "\n",
        "## How to search CMR from Python\n",
        "The first step is to import python packages.  We will use:  \n",
        "- `requests` This package does most of the work for us accessing the CMR API using HTTP methods.\n",
        "- `pprint` to _pretty print_ the results of the search.  \n",
        "\n",
        "A more in depth tutorial on `requests` is [here](https://realpython.com/python-requests/)"
      ]
    },
    {
      "cell_type": "code",
      "metadata": {
        "id": "FJX5LBkY87wB"
      },
      "source": [
        "import requests\n",
        "from pprint import pprint"
      ],
      "execution_count": 2,
      "outputs": []
    },
    {
      "cell_type": "markdown",
      "metadata": {
        "id": "ltZOBoAC87wC"
      },
      "source": [
        "Then we need to authenticate with EarthData Login. Since we've already set this up in the previous lesson, here you need to enter your username before executing the cell.\n",
        "\n",
        "To conduct a search using the CMR API, `requests` needs the url for the root CMR search endpoint.\n",
        "We'll build this url as a python variable."
      ]
    },
    {
      "cell_type": "code",
      "metadata": {
        "id": "GTMJT-Pu87wD"
      },
      "source": [
        "CMR_OPS = 'https://cmr.earthdata.nasa.gov/search'"
      ],
      "execution_count": 14,
      "outputs": []
    },
    {
      "cell_type": "markdown",
      "metadata": {
        "id": "1jMu905-87wD"
      },
      "source": [
        "CMR allows search by __collections__, which are datasets, and __granules__, which are files that contain data.  Many of the same search parameters can be used for colections and granules but the type of results returned differ.  Search parameters can be found in the [API Documentation](https://cmr.earthdata.nasa.gov/search/site/docs/search/api.html).\n",
        "\n",
        "Whether we search __collections__ or __granules__ is distinguished by adding `\"collections\"` or `\"granules\"` to the url for the root CMR endpoint.\n",
        "\n",
        "We are going to search collections first, so we add collections to the url.  I'm using a `python` format string here."
      ]
    },
    {
      "cell_type": "code",
      "metadata": {
        "id": "hGEqVoO287wE"
      },
      "source": [
        "url = f'{CMR_OPS}/{\"collections\"}'"
      ],
      "execution_count": 15,
      "outputs": []
    },
    {
      "cell_type": "markdown",
      "metadata": {
        "id": "QelIrGfQ87wE"
      },
      "source": [
        "In this first example, I want to retrieve a list of collections that are hosted in the cloud.  Each collection has a `cloud_hosted` parameter that is either True if that collection is in the cloud and False if it is not.  The migration of NASA data to the cloud is a work in progress.  Not all collections tagged as `cloud_hosted` have granules.  To search for only `cloud_hosted` datasets with granules, I also set `has_granules` to `True`.\n",
        "\n",
        "I also want to get the content in `json` (pronounced \"jason\") format, so I pass a dictionary to the header keyword argument to say that I want results returned as `json`.\n",
        "\n",
        "The `.get()` method is used to send this information to the CMR API.  `get()` calls the HTTP method __GET__."
      ]
    },
    {
      "cell_type": "code",
      "metadata": {
        "id": "aFklFdcx87wF"
      },
      "source": [
        "response = requests.get(url,\n",
        "                        params={\n",
        "                            'cloud_hosted': 'True',\n",
        "                            'has_granules': 'True',\n",
        "                        },\n",
        "                        headers={\n",
        "                            'Accept': 'application/json',\n",
        "                        }\n",
        "                       )"
      ],
      "execution_count": 16,
      "outputs": []
    },
    {
      "cell_type": "markdown",
      "metadata": {
        "id": "acoPX19f87wF"
      },
      "source": [
        "`requests` returns a `Response` object.  \n",
        "\n",
        "Often, we want to check that our request was successful.  In a notebook or someother interactive environment, we can just type the name of the variable we have saved our `requests` Response to, in this case the `response` variable."
      ]
    },
    {
      "cell_type": "code",
      "metadata": {
        "id": "z7Amd4g487wG",
        "outputId": "ec12896b-96e7-467f-87ac-908977d74785",
        "colab": {
          "base_uri": "https://localhost:8080/"
        }
      },
      "source": [
        "response"
      ],
      "execution_count": 17,
      "outputs": [
        {
          "output_type": "execute_result",
          "data": {
            "text/plain": [
              "<Response [200]>"
            ]
          },
          "metadata": {},
          "execution_count": 17
        }
      ]
    },
    {
      "cell_type": "markdown",
      "metadata": {
        "id": "G3897yTj87wG"
      },
      "source": [
        "  A cleaner and more understandable method is to check the `status_code` attribute.  Both methods return a HTTP status code.  You've probably seen a 404 error when you have tried to access a website that doesn't exist."
      ]
    },
    {
      "cell_type": "code",
      "metadata": {
        "id": "IdJRxbIQ87wG",
        "outputId": "3c29b37e-2cb1-4ba4-fac4-2c988cc7064c",
        "colab": {
          "base_uri": "https://localhost:8080/"
        }
      },
      "source": [
        "response.status_code"
      ],
      "execution_count": 18,
      "outputs": [
        {
          "output_type": "execute_result",
          "data": {
            "text/plain": [
              "200"
            ]
          },
          "metadata": {},
          "execution_count": 18
        }
      ]
    },
    {
      "cell_type": "markdown",
      "metadata": {
        "id": "pBsQoXB887wH"
      },
      "source": [
        "Try changing `CMR_OPS` to `https://cmr.earthdata.nasa.gov/searches` and run `requests.get` again.  __Don't forget to rerun the cell that assigns the `url` variable__\n",
        "\n",
        "\n",
        "The response from `requests.get` returns the results of the search and metadata about those results in the `headers`.  \n",
        "\n",
        "More information about the `response` object can be found by typing `help(response)`.\n",
        "\n",
        "`headers` contains useful information in a case-insensitive dictionary.  This information is printed below.\n",
        "*TODO: maybe some context for where the 2 elements k, v, come from?*"
      ]
    },
    {
      "cell_type": "code",
      "metadata": {
        "id": "GVFTYqDz87wH",
        "outputId": "1862516b-c026-4db4-bc4a-1b67a33db8f5",
        "colab": {
          "base_uri": "https://localhost:8080/"
        }
      },
      "source": [
        "for k, v in response.headers.items():\n",
        "    print(f'{k}: {v}')"
      ],
      "execution_count": 19,
      "outputs": [
        {
          "output_type": "stream",
          "name": "stdout",
          "text": [
            "Content-Type: application/json;charset=utf-8\n",
            "Transfer-Encoding: chunked\n",
            "Connection: keep-alive\n",
            "Date: Thu, 14 Nov 2024 04:39:53 GMT\n",
            "X-Frame-Options: SAMEORIGIN\n",
            "Access-Control-Allow-Origin: *\n",
            "X-XSS-Protection: 1; mode=block\n",
            "CMR-Request-Id: 248b3960-c8b1-43d0-be47-27964bb6336f\n",
            "Content-SHA1: d44a71ae7adafdaada42e662f08eaba2fcafdb5f\n",
            "Strict-Transport-Security: max-age=31536000; includeSubDomains; preload\n",
            "CMR-Search-After: [0.0,10800.0,\"VNP02IMG\",\"2\",2105091501,3]\n",
            "CMR-Hits: 5449\n",
            "Access-Control-Expose-Headers: CMR-Hits, CMR-Request-Id, X-Request-Id, CMR-Scroll-Id, CMR-Search-After, CMR-Timed-Out, CMR-Shapefile-Original-Point-Count, CMR-Shapefile-Simplified-Point-Count\n",
            "X-Content-Type-Options: nosniff\n",
            "CMR-Took: 1787\n",
            "X-Request-Id: NLJ42Nd-0KisFxkQMtVfn6sMG_cjC1EajDIS8CS0c7dIJ_d5v4PAIQ==\n",
            "Content-MD5: f09e6719754803684d0e226241594ff4\n",
            "Vary: Accept-Encoding, User-Agent\n",
            "Content-Encoding: gzip\n",
            "Server: ServerTokens ProductOnly\n",
            "X-Cache: Miss from cloudfront\n",
            "Via: 1.1 543364398a9b5ee1ed0d763a4bb2c14a.cloudfront.net (CloudFront)\n",
            "X-Amz-Cf-Pop: DEN52-C1\n",
            "X-Amz-Cf-Id: NLJ42Nd-0KisFxkQMtVfn6sMG_cjC1EajDIS8CS0c7dIJ_d5v4PAIQ==\n"
          ]
        }
      ]
    },
    {
      "cell_type": "markdown",
      "metadata": {
        "id": "3Fuz1HwK87wH"
      },
      "source": [
        "We can see that the content returned is in `json` format in the UTF-8 character set.  We can also see from `CMR-Hits` that 919 collections were found.\n",
        "\n",
        "Each item in the dictionary can be accessed in the normal way you access a `python` dictionary but because it is case-insensitive, both"
      ]
    },
    {
      "cell_type": "code",
      "metadata": {
        "id": "T8V3tYCO87wH",
        "outputId": "584f7db4-caf6-4fb3-d8c5-6db905dfff8a",
        "colab": {
          "base_uri": "https://localhost:8080/",
          "height": 35
        }
      },
      "source": [
        "response.headers['CMR-Hits']"
      ],
      "execution_count": 20,
      "outputs": [
        {
          "output_type": "execute_result",
          "data": {
            "text/plain": [
              "'5449'"
            ],
            "application/vnd.google.colaboratory.intrinsic+json": {
              "type": "string"
            }
          },
          "metadata": {},
          "execution_count": 20
        }
      ]
    },
    {
      "cell_type": "markdown",
      "metadata": {
        "id": "-MKpotUb87wH"
      },
      "source": [
        "and"
      ]
    },
    {
      "cell_type": "code",
      "metadata": {
        "id": "KlqiAXN087wH",
        "outputId": "0bead339-af04-47f6-da5d-6a9c1dc53df3",
        "colab": {
          "base_uri": "https://localhost:8080/",
          "height": 35
        }
      },
      "source": [
        "response.headers['cmr-hits']"
      ],
      "execution_count": 21,
      "outputs": [
        {
          "output_type": "execute_result",
          "data": {
            "text/plain": [
              "'5449'"
            ],
            "application/vnd.google.colaboratory.intrinsic+json": {
              "type": "string"
            }
          },
          "metadata": {},
          "execution_count": 21
        }
      ]
    },
    {
      "cell_type": "markdown",
      "metadata": {
        "id": "JAP1jSbe87wI"
      },
      "source": [
        "work.\n",
        "\n",
        "This is a large number of data sets.  I'm going to restrict the search to cloud-hosted datasets from ASF (Alaska SAR Facility) because I'm interested in SAR images of sea ice.  To do this, I set the `provider` parameter to `ASF`.\n",
        "\n",
        "You can modify the code below to explore all of the cloud-hosted datasets or cloud-hosted datasets from other providers.  A partial list of providers is given below.\n",
        "\n",
        "DAAC      | Short Name                              | Cloud Provider | On-Premises Provider  \n",
        "----------|-----------------------------------------|----------------|----------------------  \n",
        "NSIDC     | National Snow and Ice Data Center       | NSIDC_CPRD     | NSIDC_ECS  \n",
        "GHRC DAAC | Global Hydrometeorology Resource Center | GHRC_DAAC      | GHRC_DAAC  \n",
        "PO DAAC   | Physical Oceanography Distributed Active Archive Center | POCLOUD | PODAAC  \n",
        "ASF       | Alaska Satellite Facility | ASF | ASF  \n",
        "ORNL DAAC | Oak Ridge National Laboratory | ORNL_CLOUD | ORNL_DAAC  \n",
        "LP DAAC   | Land Processes Distributed Active Archive Center | LPCLOUD | LPDAAC_ECS\n",
        "GES DISC  | NASA Goddard Earth Sciences (GES) Data and Information Services Center (DISC) | GES_DISC | GES_DISC\n",
        "OB DAAC   | NASA's Ocean Biology Distributed Active Archive Center |   | OB_DAAC\n",
        "SEDAC     | NASA's Socioeconomic Data and Applications Center |   | SEDAC\n",
        "\n",
        "When search by provider, use _Cloud Provider_ to search for cloud-hosted datasets and _On-Premises Provider_ to search for datasets archived at the DAACs."
      ]
    },
    {
      "cell_type": "code",
      "metadata": {
        "id": "PAqAlb3o87wI"
      },
      "source": [
        "provider = 'ASF'\n",
        "response = requests.get(url,\n",
        "                        params={\n",
        "                            'cloud_hosted': 'True',\n",
        "                            'has_granules': 'True',\n",
        "                            'provider': provider,\n",
        "                        },\n",
        "                        headers={\n",
        "                            'Accept': 'application/json'\n",
        "                        }\n",
        "                       )"
      ],
      "execution_count": 22,
      "outputs": []
    },
    {
      "cell_type": "code",
      "metadata": {
        "id": "KYMcwCDZ87wI",
        "outputId": "08124f80-d35b-4105-e346-8783745def2c",
        "colab": {
          "base_uri": "https://localhost:8080/",
          "height": 35
        }
      },
      "source": [
        "response.headers['cmr-hits']"
      ],
      "execution_count": 23,
      "outputs": [
        {
          "output_type": "execute_result",
          "data": {
            "text/plain": [
              "'48'"
            ],
            "application/vnd.google.colaboratory.intrinsic+json": {
              "type": "string"
            }
          },
          "metadata": {},
          "execution_count": 23
        }
      ]
    },
    {
      "cell_type": "markdown",
      "metadata": {
        "id": "vmWGEkFn87wI"
      },
      "source": [
        "Search results are contained in the content part of the Response object.  However, `response.content` returns information in bytes."
      ]
    },
    {
      "cell_type": "code",
      "metadata": {
        "id": "lFnGj2zs87wI",
        "outputId": "7ec80462-adab-4c19-a76d-7404c0b7ff40",
        "colab": {
          "base_uri": "https://localhost:8080/"
        }
      },
      "source": [
        "response.content"
      ],
      "execution_count": 24,
      "outputs": [
        {
          "output_type": "execute_result",
          "data": {
            "text/plain": [
              "b'{\"feed\":{\"updated\":\"2024-11-14T04:49:13.653Z\",\"id\":\"https://cmr.earthdata.nasa.gov:443/search/collections.json?cloud_hosted=True&has_granules=True&provider=ASF\",\"title\":\"ECHO dataset metadata\",\"entry\":[{\"cloud_hosted\":true,\"boxes\":[\"-90 -180 90 180\"],\"has_combine\":false,\"time_start\":\"2014-04-03T00:00:00.000Z\",\"version_id\":\"1\",\"updated\":\"2022-11-17T22:58:01.000Z\",\"dataset_id\":\"SENTINEL-1A_SLC\",\"entry_id\":\"SENTINEL-1A_SLC_1\",\"has_spatial_subsetting\":false,\"has_transforms\":false,\"has_variables\":false,\"data_center\":\"ASF\",\"short_name\":\"SENTINEL-1A_SLC\",\"organizations\":[\"ASF\",\"ESA/CS1CGS\"],\"title\":\"SENTINEL-1A_SLC\",\"coordinate_system\":\"CARTESIAN\",\"summary\":\"Sentinel-1A slant-range product\",\"service_features\":{\"opendap\":{\"has_formats\":false,\"has_variables\":false,\"has_transforms\":false,\"has_combine\":false,\"has_spatial_subsetting\":false,\"has_temporal_subsetting\":false},\"esi\":{\"has_formats\":false,\"has_variables\":false,\"has_transforms\":false,\"has_combine\":false,\"has_spatial_subsetting\":false,\"has_temporal_subsetting\":false},\"harmony\":{\"has_formats\":false,\"has_variables\":false,\"has_transforms\":false,\"has_combine\":false,\"has_spatial_subsetting\":false,\"has_temporal_subsetting\":false}},\"orbit_parameters\":{},\"id\":\"C1214470488-ASF\",\"has_formats\":false,\"consortiums\":[\"GEOSS\",\"EOSDIS\"],\"original_format\":\"UMM_JSON\",\"archive_center\":\"ASF\",\"has_temporal_subsetting\":false,\"browse_flag\":false,\"platforms\":[\"Sentinel-1A\"],\"online_access_flag\":true,\"links\":[{\"rel\":\"http://esipfed.org/ns/fedsearch/1.1/data#\",\"hreflang\":\"en-US\",\"href\":\"https://search.asf.alaska.edu/ \"},{\"rel\":\"http://esipfed.org/ns/fedsearch/1.1/metadata#\",\"hreflang\":\"en-US\",\"href\":\"https://earthdata.nasa.gov/data/catalog/alaska-satellite-facility-distributed-active-archive-center-sentinel-1-version-1/\"}]},{\"cloud_hosted\":true,\"boxes\":[\"-90 -180 90 180\"],\"has_combine\":false,\"time_start\":\"2016-04-25T00:00:00.000Z\",\"version_id\":\"1\",\"updated\":\"2022-11-17T22:52:25.000Z\",\"dataset_id\":\"SENTINEL-1B_SLC\",\"entry_id\":\"SENTINEL-1B_SLC_1\",\"has_spatial_subsetting\":false,\"has_transforms\":false,\"has_variables\":false,\"data_center\":\"ASF\",\"short_name\":\"SENTINEL-1B_SLC\",\"organizations\":[\"ASF\",\"ESA/CS1CGS\"],\"title\":\"SENTINEL-1B_SLC\",\"coordinate_system\":\"CARTESIAN\",\"summary\":\"Sentinel-1B slant-range product\",\"time_end\":\"2021-12-24T00:00:00.000Z\",\"service_features\":{\"opendap\":{\"has_formats\":false,\"has_variables\":false,\"has_transforms\":false,\"has_combine\":false,\"has_spatial_subsetting\":false,\"has_temporal_subsetting\":false},\"esi\":{\"has_formats\":false,\"has_variables\":false,\"has_transforms\":false,\"has_combine\":false,\"has_spatial_subsetting\":false,\"has_temporal_subsetting\":false},\"harmony\":{\"has_formats\":false,\"has_variables\":false,\"has_transforms\":false,\"has_combine\":false,\"has_spatial_subsetting\":false,\"has_temporal_subsetting\":false}},\"orbit_parameters\":{},\"id\":\"C1327985661-ASF\",\"has_formats\":false,\"consortiums\":[\"GEOSS\",\"EOSDIS\"],\"original_format\":\"UMM_JSON\",\"archive_center\":\"ASF\",\"has_temporal_subsetting\":false,\"browse_flag\":false,\"platforms\":[\"Sentinel-1B\"],\"online_access_flag\":true,\"links\":[{\"rel\":\"http://esipfed.org/ns/fedsearch/1.1/data#\",\"hreflang\":\"en-US\",\"href\":\"https://search.asf.alaska.edu/\"},{\"rel\":\"http://esipfed.org/ns/fedsearch/1.1/metadata#\",\"hreflang\":\"en-US\",\"href\":\"https://earthdata.nasa.gov/data/catalog/alaska-satellite-facility-distributed-active-archive-center-sentinel-1-version-1/\"}]},{\"cloud_hosted\":true,\"boxes\":[\"-90 -180 90 180\"],\"has_combine\":false,\"time_start\":\"2014-04-03T00:00:00.000Z\",\"version_id\":\"1\",\"updated\":\"2022-11-17T22:57:10.000Z\",\"dataset_id\":\"SENTINEL-1A_DUAL_POL_GRD_HIGH_RES\",\"entry_id\":\"SENTINEL-1A_DP_GRD_HIGH_1\",\"has_spatial_subsetting\":false,\"has_transforms\":false,\"has_variables\":false,\"data_center\":\"ASF\",\"short_name\":\"SENTINEL-1A_DP_GRD_HIGH\",\"organizations\":[\"ASF\",\"ESA/CS1CGS\"],\"title\":\"SENTINEL-1A_DUAL_POL_GRD_HIGH_RES\",\"coordinate_system\":\"CARTESIAN\",\"summary\":\"Sentinel-1A Dual-pol ground projected high and full resolution images\",\"service_features\":{\"opendap\":{\"has_formats\":false,\"has_variables\":false,\"has_transforms\":false,\"has_combine\":false,\"has_spatial_subsetting\":false,\"has_temporal_subsetting\":false},\"esi\":{\"has_formats\":false,\"has_variables\":false,\"has_transforms\":false,\"has_combine\":false,\"has_spatial_subsetting\":false,\"has_temporal_subsetting\":false},\"harmony\":{\"has_formats\":false,\"has_variables\":false,\"has_transforms\":false,\"has_combine\":false,\"has_spatial_subsetting\":false,\"has_temporal_subsetting\":false}},\"orbit_parameters\":{},\"id\":\"C1214470533-ASF\",\"has_formats\":false,\"consortiums\":[\"GEOSS\",\"EOSDIS\"],\"original_format\":\"UMM_JSON\",\"archive_center\":\"ASF\",\"has_temporal_subsetting\":false,\"browse_flag\":false,\"platforms\":[\"Sentinel-1A\"],\"online_access_flag\":true,\"links\":[{\"rel\":\"http://esipfed.org/ns/fedsearch/1.1/data#\",\"hreflang\":\"en-US\",\"href\":\"https://search.asf.alaska.edu/\"},{\"rel\":\"http://esipfed.org/ns/fedsearch/1.1/metadata#\",\"hreflang\":\"en-US\",\"href\":\"https://earthdata.nasa.gov/data/catalog/alaska-satellite-facility-distributed-active-archive-center-sentinel-1-version-1/\"}]},{\"cloud_hosted\":true,\"boxes\":[\"-90 -180 90 180\"],\"has_combine\":false,\"time_start\":\"2016-04-25T00:00:00.000Z\",\"version_id\":\"1\",\"updated\":\"2022-11-17T22:50:17.000Z\",\"dataset_id\":\"SENTINEL-1B_DUAL_POL_GRD_HIGH_RES\",\"entry_id\":\"SENTINEL-1B_DP_GRD_HIGH_1\",\"has_spatial_subsetting\":false,\"has_transforms\":false,\"has_variables\":false,\"data_center\":\"ASF\",\"short_name\":\"SENTINEL-1B_DP_GRD_HIGH\",\"organizations\":[\"ASF\",\"ESA/CS1CGS\"],\"title\":\"SENTINEL-1B_DUAL_POL_GRD_HIGH_RES\",\"coordinate_system\":\"CARTESIAN\",\"summary\":\"Sentinel-1B Dual-pol ground projected high and full resolution images\",\"time_end\":\"2021-12-24T00:00:00.000Z\",\"service_features\":{\"opendap\":{\"has_formats\":false,\"has_variables\":false,\"has_transforms\":false,\"has_combine\":false,\"has_spatial_subsetting\":false,\"has_temporal_subsetting\":false},\"esi\":{\"has_formats\":false,\"has_variables\":false,\"has_transforms\":false,\"has_combine\":false,\"has_spatial_subsetting\":false,\"has_temporal_subsetting\":false},\"harmony\":{\"has_formats\":false,\"has_variables\":false,\"has_transforms\":false,\"has_combine\":false,\"has_spatial_subsetting\":false,\"has_temporal_subsetting\":false}},\"orbit_parameters\":{},\"id\":\"C1327985645-ASF\",\"has_formats\":false,\"consortiums\":[\"GEOSS\",\"EOSDIS\"],\"original_format\":\"UMM_JSON\",\"archive_center\":\"ASF\",\"has_temporal_subsetting\":false,\"browse_flag\":false,\"platforms\":[\"Sentinel-1B\"],\"online_access_flag\":true,\"links\":[{\"rel\":\"http://esipfed.org/ns/fedsearch/1.1/data#\",\"hreflang\":\"en-US\",\"href\":\"https://search.asf.alaska.edu/\"},{\"rel\":\"http://esipfed.org/ns/fedsearch/1.1/metadata#\",\"hreflang\":\"en-US\",\"href\":\"https://earthdata.nasa.gov/data/catalog/alaska-satellite-facility-distributed-active-archive-center-sentinel-1-version-1/\"}]},{\"processing_level_id\":\"2\",\"cloud_hosted\":true,\"boxes\":[\"18.84486 -156.4174 20.31149 -154.672\",\"30.13852 -114.0486 37.00386 -112.4875\",\"53.97382 -165.6942 55.19449 -161.2068\",\"34.68611 -120.6429 35.68992 -119.0944\",\"31.94 -104.86 32.6 -103.6\"],\"has_combine\":false,\"time_start\":\"2014-06-15T03:44:43.000Z\",\"version_id\":\"1\",\"updated\":\"2016-12-07T23:10:00.000Z\",\"dataset_id\":\"Sentinel-1 Interferograms\",\"entry_id\":\"SENTINEL-1_INTERFEROGRAMS_1\",\"has_spatial_subsetting\":true,\"has_transforms\":false,\"associations\":{\"variables\":[\"V2666154475-ASF\",\"V2666154482-ASF\",\"V2666154487-ASF\",\"V2666154491-ASF\"],\"services\":[\"S2606110201-XYZ_PROV\"]},\"has_variables\":true,\"data_center\":\"ASF\",\"short_name\":\"SENTINEL-1_INTERFEROGRAMS\",\"organizations\":[\"Alaska Satellite Facility\",\"Jet Propulsion Laboratory\"],\"title\":\"Sentinel-1 Interferograms\",\"coordinate_system\":\"CARTESIAN\",\"summary\":\"Sentinel-1 SLC interferometric products generated by JPL using ISCE v2.0.0, delivered by ASF\",\"service_features\":{\"harmony\":{\"has_formats\":true,\"has_variables\":true,\"has_transforms\":false,\"has_combine\":false,\"has_spatial_subsetting\":true,\"has_temporal_subsetting\":true},\"opendap\":{\"has_formats\":false,\"has_variables\":false,\"has_transforms\":false,\"has_combine\":false,\"has_spatial_subsetting\":false,\"has_temporal_subsetting\":false},\"esi\":{\"has_formats\":false,\"has_variables\":false,\"has_transforms\":false,\"has_combine\":false,\"has_spatial_subsetting\":false,\"has_temporal_subsetting\":false}},\"orbit_parameters\":{},\"id\":\"C1595422627-ASF\",\"has_formats\":true,\"consortiums\":[\"GEOSS\",\"EOSDIS\"],\"original_format\":\"ECHO10\",\"archive_center\":\"Alaska Satellite Facility\",\"has_temporal_subsetting\":true,\"browse_flag\":true,\"platforms\":[\"Sentinel-1A\",\"Sentinel-1B\"],\"association_details\":{\"variables\":[{\"concept_id\":\"V2666154475-ASF\"},{\"concept_id\":\"V2666154482-ASF\"},{\"concept_id\":\"V2666154487-ASF\"},{\"concept_id\":\"V2666154491-ASF\"}],\"services\":[{\"concept_id\":\"S2606110201-XYZ_PROV\"}]},\"online_access_flag\":false,\"links\":[{\"rel\":\"http://esipfed.org/ns/fedsearch/1.1/metadata#\",\"hreflang\":\"en-US\",\"href\":\"https://earthdata.nasa.gov/data/catalog/alaska-satellite-facility-distributed-active-archive-center-aria-s1-gunw-version-1/\"},{\"rel\":\"http://esipfed.org/ns/fedsearch/1.1/browse#\",\"hreflang\":\"en-US\",\"href\":\"https://s3.amazonaws.com/grfn-static/SENTINEL-1_INTERFEROGRAMS_browse.png\"}]},{\"cloud_hosted\":true,\"boxes\":[\"-90 -180 90 180\"],\"has_combine\":false,\"time_start\":\"2014-04-03T00:00:00.000Z\",\"version_id\":\"1\",\"updated\":\"2022-11-17T22:57:32.000Z\",\"dataset_id\":\"SENTINEL-1A_METADATA_SLC\",\"entry_id\":\"SENTINEL-1A_META_SLC_1\",\"has_spatial_subsetting\":false,\"has_transforms\":false,\"has_variables\":false,\"data_center\":\"ASF\",\"short_name\":\"SENTINEL-1A_META_SLC\",\"organizations\":[\"ASF\"],\"title\":\"SENTINEL-1A_METADATA_SLC\",\"coordinate_system\":\"CARTESIAN\",\"summary\":\"Metadata for Sentinel-1A slant-range product\",\"service_features\":{\"opendap\":{\"has_formats\":false,\"has_variables\":false,\"has_transforms\":false,\"has_combine\":false,\"has_spatial_subsetting\":false,\"has_temporal_subsetting\":false},\"esi\":{\"has_formats\":false,\"has_variables\":false,\"has_transforms\":false,\"has_combine\":false,\"has_spatial_subsetting\":false,\"has_temporal_subsetting\":false},\"harmony\":{\"has_formats\":false,\"has_variables\":false,\"has_transforms\":false,\"has_combine\":false,\"has_spatial_subsetting\":false,\"has_temporal_subsetting\":false}},\"orbit_parameters\":{},\"id\":\"C1214470496-ASF\",\"has_formats\":false,\"consortiums\":[\"GEOSS\",\"EOSDIS\"],\"original_format\":\"UMM_JSON\",\"archive_center\":\"ASF\",\"has_temporal_subsetting\":false,\"browse_flag\":false,\"platforms\":[\"Sentinel-1A\"],\"online_access_flag\":true,\"links\":[{\"rel\":\"http://esipfed.org/ns/fedsearch/1.1/data#\",\"hreflang\":\"en-US\",\"href\":\"https://search.asf.alaska.edu/\"},{\"rel\":\"http://esipfed.org/ns/fedsearch/1.1/metadata#\",\"hreflang\":\"en-US\",\"href\":\"https://earthdata.nasa.gov/data/catalog/alaska-satellite-facility-distributed-active-archive-center-sentinel-1-version-1/\"}]},{\"cloud_hosted\":true,\"boxes\":[\"-90 -180 90 180\"],\"has_combine\":false,\"time_start\":\"2014-04-03T00:00:00.000Z\",\"version_id\":\"1\",\"updated\":\"2022-11-17T22:57:20.000Z\",\"dataset_id\":\"SENTINEL-1A_DUAL_POL_METADATA_GRD_HIGH_RES\",\"entry_id\":\"SENTINEL-1A_DP_META_GRD_HIGH_1\",\"has_spatial_subsetting\":false,\"has_transforms\":false,\"has_variables\":false,\"data_center\":\"ASF\",\"short_name\":\"SENTINEL-1A_DP_META_GRD_HIGH\",\"organizations\":[\"ASF\"],\"title\":\"SENTINEL-1A_DUAL_POL_METADATA_GRD_HIGH_RES\",\"coordinate_system\":\"CARTESIAN\",\"summary\":\"Sentinel-1A Dual-pol ground projected high and full resolution metadata\",\"service_features\":{\"opendap\":{\"has_formats\":false,\"has_variables\":false,\"has_transforms\":false,\"has_combine\":false,\"has_spatial_subsetting\":false,\"has_temporal_subsetting\":false},\"esi\":{\"has_formats\":false,\"has_variables\":false,\"has_transforms\":false,\"has_combine\":false,\"has_spatial_subsetting\":false,\"has_temporal_subsetting\":false},\"harmony\":{\"has_formats\":false,\"has_variables\":false,\"has_transforms\":false,\"has_combine\":false,\"has_spatial_subsetting\":false,\"has_temporal_subsetting\":false}},\"orbit_parameters\":{},\"id\":\"C1214470576-ASF\",\"has_formats\":false,\"consortiums\":[\"GEOSS\",\"EOSDIS\"],\"original_format\":\"UMM_JSON\",\"archive_center\":\"ASF\",\"has_temporal_subsetting\":false,\"browse_flag\":false,\"platforms\":[\"Sentinel-1A\"],\"online_access_flag\":true,\"links\":[{\"rel\":\"http://esipfed.org/ns/fedsearch/1.1/data#\",\"hreflang\":\"en-US\",\"href\":\"https://search.asf.alaska.edu/\"},{\"rel\":\"http://esipfed.org/ns/fedsearch/1.1/metadata#\",\"hreflang\":\"en-US\",\"href\":\"https://earthdata.nasa.gov/data/catalog/alaska-satellite-facility-distributed-active-archive-center-sentinel-1-version-1/\"}]},{\"cloud_hosted\":true,\"boxes\":[\"-90 -180 90 180\"],\"has_combine\":false,\"time_start\":\"2014-04-03T00:00:00.000Z\",\"version_id\":\"1\",\"updated\":\"2022-11-17T22:57:29.000Z\",\"dataset_id\":\"SENTINEL-1A_METADATA_RAW\",\"entry_id\":\"SENTINEL-1A_META_RAW_1\",\"has_spatial_subsetting\":false,\"has_transforms\":false,\"has_variables\":false,\"data_center\":\"ASF\",\"short_name\":\"SENTINEL-1A_META_RAW\",\"organizations\":[\"ASF\"],\"title\":\"SENTINEL-1A_METADATA_RAW\",\"coordinate_system\":\"CARTESIAN\",\"summary\":\"Metadata for Sentinel-1A level zero product\",\"service_features\":{\"opendap\":{\"has_formats\":false,\"has_variables\":false,\"has_transforms\":false,\"has_combine\":false,\"has_spatial_subsetting\":false,\"has_temporal_subsetting\":false},\"esi\":{\"has_formats\":false,\"has_variables\":false,\"has_transforms\":false,\"has_combine\":false,\"has_spatial_subsetting\":false,\"has_temporal_subsetting\":false},\"harmony\":{\"has_formats\":false,\"has_variables\":false,\"has_transforms\":false,\"has_combine\":false,\"has_spatial_subsetting\":false,\"has_temporal_subsetting\":false}},\"orbit_parameters\":{},\"id\":\"C1214470532-ASF\",\"has_formats\":false,\"consortiums\":[\"GEOSS\",\"EOSDIS\"],\"original_format\":\"UMM_JSON\",\"archive_center\":\"ASF\",\"has_temporal_subsetting\":false,\"browse_flag\":false,\"platforms\":[\"Sentinel-1A\"],\"online_access_flag\":true,\"links\":[{\"rel\":\"http://esipfed.org/ns/fedsearch/1.1/data#\",\"hreflang\":\"en-US\",\"href\":\"https://search.asf.alaska.edu/\"},{\"rel\":\"http://esipfed.org/ns/fedsearch/1.1/metadata#\",\"hreflang\":\"en-US\",\"href\":\"https://earthdata.nasa.gov/data/catalog/alaska-satellite-facility-distributed-active-archive-center-sentinel-1-version-1/\"}]},{\"cloud_hosted\":true,\"boxes\":[\"-90 -180 90 180\"],\"has_combine\":false,\"time_start\":\"2014-04-03T00:00:00.000Z\",\"version_id\":\"1\",\"updated\":\"2022-11-17T22:57:26.000Z\",\"dataset_id\":\"SENTINEL-1A_METADATA_OCN\",\"entry_id\":\"SENTINEL-1A_META_OCN_1\",\"has_spatial_subsetting\":false,\"has_transforms\":false,\"has_variables\":false,\"data_center\":\"ASF\",\"short_name\":\"SENTINEL-1A_META_OCN\",\"organizations\":[\"ASF\"],\"title\":\"SENTINEL-1A_METADATA_OCN\",\"coordinate_system\":\"CARTESIAN\",\"summary\":\"Sentinel-1A Metadata for OCN product\",\"service_features\":{\"opendap\":{\"has_formats\":false,\"has_variables\":false,\"has_transforms\":false,\"has_combine\":false,\"has_spatial_subsetting\":false,\"has_temporal_subsetting\":false},\"esi\":{\"has_formats\":false,\"has_variables\":false,\"has_transforms\":false,\"has_combine\":false,\"has_spatial_subsetting\":false,\"has_temporal_subsetting\":false},\"harmony\":{\"has_formats\":false,\"has_variables\":false,\"has_transforms\":false,\"has_combine\":false,\"has_spatial_subsetting\":false,\"has_temporal_subsetting\":false}},\"orbit_parameters\":{},\"id\":\"C1266376001-ASF\",\"has_formats\":false,\"consortiums\":[\"GEOSS\",\"EOSDIS\"],\"original_format\":\"UMM_JSON\",\"archive_center\":\"ASF\",\"has_temporal_subsetting\":false,\"browse_flag\":false,\"platforms\":[\"Sentinel-1A\"],\"online_access_flag\":true,\"links\":[{\"rel\":\"http://esipfed.org/ns/fedsearch/1.1/data#\",\"hreflang\":\"en-US\",\"href\":\"https://search.asf.alaska.edu/\"},{\"rel\":\"http://esipfed.org/ns/fedsearch/1.1/metadata#\",\"hreflang\":\"en-US\",\"href\":\"https://earthdata.nasa.gov/data/catalog/alaska-satellite-facility-distributed-active-archive-center-sentinel-1-version-1/\"}]},{\"cloud_hosted\":true,\"boxes\":[\"-90 -180 90 180\"],\"has_combine\":false,\"time_start\":\"2014-04-03T00:00:00.000Z\",\"version_id\":\"1\",\"updated\":\"2022-11-17T22:57:35.000Z\",\"dataset_id\":\"SENTINEL-1A_OCN\",\"entry_id\":\"SENTINEL-1A_OCN_1\",\"has_spatial_subsetting\":false,\"has_transforms\":false,\"has_variables\":false,\"data_center\":\"ASF\",\"short_name\":\"SENTINEL-1A_OCN\",\"organizations\":[\"ASF\",\"ESA/CS1CGS\"],\"title\":\"SENTINEL-1A_OCN\",\"coordinate_system\":\"CARTESIAN\",\"summary\":\"SENTINEL-1A Level 2 Ocean wind, wave and current data\",\"service_features\":{\"opendap\":{\"has_formats\":false,\"has_variables\":false,\"has_transforms\":false,\"has_combine\":false,\"has_spatial_subsetting\":false,\"has_temporal_subsetting\":false},\"esi\":{\"has_formats\":false,\"has_variables\":false,\"has_transforms\":false,\"has_combine\":false,\"has_spatial_subsetting\":false,\"has_temporal_subsetting\":false},\"harmony\":{\"has_formats\":false,\"has_variables\":false,\"has_transforms\":false,\"has_combine\":false,\"has_spatial_subsetting\":false,\"has_temporal_subsetting\":false}},\"orbit_parameters\":{},\"id\":\"C1214472977-ASF\",\"has_formats\":false,\"consortiums\":[\"GEOSS\",\"EOSDIS\"],\"original_format\":\"UMM_JSON\",\"archive_center\":\"ASF\",\"has_temporal_subsetting\":false,\"browse_flag\":false,\"platforms\":[\"Sentinel-1A\"],\"online_access_flag\":true,\"links\":[{\"rel\":\"http://esipfed.org/ns/fedsearch/1.1/data#\",\"hreflang\":\"en-US\",\"href\":\"https://search.asf.alaska.edu/\"},{\"rel\":\"http://esipfed.org/ns/fedsearch/1.1/metadata#\",\"hreflang\":\"en-US\",\"href\":\"https://earthdata.nasa.gov/data/catalog/alaska-satellite-facility-distributed-active-archive-center-sentinel-1-version-1/\"}]}]}}'"
            ]
          },
          "metadata": {},
          "execution_count": 24
        }
      ]
    },
    {
      "cell_type": "markdown",
      "metadata": {
        "id": "S6S096EQ87wI"
      },
      "source": [
        "It is more convenient to work with `json` formatted data.  I'm using pretty print `pprint` to print the data in an easy to read way.  \n",
        "\n",
        "__Step through `response.json()`, then to `response.json()['feed']['entry'][0]`__. A reminder that python starts indexing at 0, not 1!"
      ]
    },
    {
      "cell_type": "code",
      "metadata": {
        "id": "FBm2BFDV87wJ",
        "outputId": "f8d08753-9db0-481a-a4c7-c0cbe102ccca",
        "colab": {
          "base_uri": "https://localhost:8080/"
        }
      },
      "source": [
        "pprint(response.json()['feed']['entry'][1])"
      ],
      "execution_count": 26,
      "outputs": [
        {
          "output_type": "stream",
          "name": "stdout",
          "text": [
            "{'archive_center': 'ASF',\n",
            " 'boxes': ['-90 -180 90 180'],\n",
            " 'browse_flag': False,\n",
            " 'cloud_hosted': True,\n",
            " 'consortiums': ['GEOSS', 'EOSDIS'],\n",
            " 'coordinate_system': 'CARTESIAN',\n",
            " 'data_center': 'ASF',\n",
            " 'dataset_id': 'SENTINEL-1B_SLC',\n",
            " 'entry_id': 'SENTINEL-1B_SLC_1',\n",
            " 'has_combine': False,\n",
            " 'has_formats': False,\n",
            " 'has_spatial_subsetting': False,\n",
            " 'has_temporal_subsetting': False,\n",
            " 'has_transforms': False,\n",
            " 'has_variables': False,\n",
            " 'id': 'C1327985661-ASF',\n",
            " 'links': [{'href': 'https://search.asf.alaska.edu/',\n",
            "            'hreflang': 'en-US',\n",
            "            'rel': 'http://esipfed.org/ns/fedsearch/1.1/data#'},\n",
            "           {'href': 'https://earthdata.nasa.gov/data/catalog/alaska-satellite-facility-distributed-active-archive-center-sentinel-1-version-1/',\n",
            "            'hreflang': 'en-US',\n",
            "            'rel': 'http://esipfed.org/ns/fedsearch/1.1/metadata#'}],\n",
            " 'online_access_flag': True,\n",
            " 'orbit_parameters': {},\n",
            " 'organizations': ['ASF', 'ESA/CS1CGS'],\n",
            " 'original_format': 'UMM_JSON',\n",
            " 'platforms': ['Sentinel-1B'],\n",
            " 'service_features': {'esi': {'has_combine': False,\n",
            "                              'has_formats': False,\n",
            "                              'has_spatial_subsetting': False,\n",
            "                              'has_temporal_subsetting': False,\n",
            "                              'has_transforms': False,\n",
            "                              'has_variables': False},\n",
            "                      'harmony': {'has_combine': False,\n",
            "                                  'has_formats': False,\n",
            "                                  'has_spatial_subsetting': False,\n",
            "                                  'has_temporal_subsetting': False,\n",
            "                                  'has_transforms': False,\n",
            "                                  'has_variables': False},\n",
            "                      'opendap': {'has_combine': False,\n",
            "                                  'has_formats': False,\n",
            "                                  'has_spatial_subsetting': False,\n",
            "                                  'has_temporal_subsetting': False,\n",
            "                                  'has_transforms': False,\n",
            "                                  'has_variables': False}},\n",
            " 'short_name': 'SENTINEL-1B_SLC',\n",
            " 'summary': 'Sentinel-1B slant-range product',\n",
            " 'time_end': '2021-12-24T00:00:00.000Z',\n",
            " 'time_start': '2016-04-25T00:00:00.000Z',\n",
            " 'title': 'SENTINEL-1B_SLC',\n",
            " 'updated': '2022-11-17T22:52:25.000Z',\n",
            " 'version_id': '1'}\n"
          ]
        }
      ]
    },
    {
      "cell_type": "markdown",
      "metadata": {
        "id": "Pl1NtvBL87wJ"
      },
      "source": [
        "The first response is not the result I am looking for *TODO: because xyz...but it does show a few variables that we can use to further refine the search*.  So I want to print the name of the dataset (`dataset_id`) and the concept id (`id`). We can build this variable and print statement like we did above with the `url` variable.\n",
        "*TODO: is it worth saying something about what \"feed\" and \"entry\" are?*"
      ]
    },
    {
      "cell_type": "code",
      "metadata": {
        "id": "ZCz135Jd87wJ"
      },
      "source": [
        "collections = response.json()['feed']['entry']"
      ],
      "execution_count": 27,
      "outputs": []
    },
    {
      "cell_type": "code",
      "metadata": {
        "id": "tydHMQ6A87wJ",
        "outputId": "3068a0b2-20ba-42b5-b10f-5a2121a5869d",
        "colab": {
          "base_uri": "https://localhost:8080/"
        }
      },
      "source": [
        "for collection in collections:\n",
        "    print(f'{collection[\"archive_center\"]} {collection[\"dataset_id\"]} {collection[\"id\"]}')"
      ],
      "execution_count": 28,
      "outputs": [
        {
          "output_type": "stream",
          "name": "stdout",
          "text": [
            "ASF SENTINEL-1A_SLC C1214470488-ASF\n",
            "ASF SENTINEL-1B_SLC C1327985661-ASF\n",
            "ASF SENTINEL-1A_DUAL_POL_GRD_HIGH_RES C1214470533-ASF\n",
            "ASF SENTINEL-1B_DUAL_POL_GRD_HIGH_RES C1327985645-ASF\n",
            "Alaska Satellite Facility Sentinel-1 Interferograms C1595422627-ASF\n",
            "ASF SENTINEL-1A_METADATA_SLC C1214470496-ASF\n",
            "ASF SENTINEL-1A_DUAL_POL_METADATA_GRD_HIGH_RES C1214470576-ASF\n",
            "ASF SENTINEL-1A_METADATA_RAW C1214470532-ASF\n",
            "ASF SENTINEL-1A_METADATA_OCN C1266376001-ASF\n",
            "ASF SENTINEL-1A_OCN C1214472977-ASF\n"
          ]
        }
      ]
    },
    {
      "cell_type": "markdown",
      "metadata": {
        "id": "H3vpLSK487wJ"
      },
      "source": [
        "But there is a problem.  We know from `CMR-Hits` that there are 49 datasets but only 10 are printed.  This is because CMR restricts the number of results returned by a query.  The default is 10 but it can be set to a maximum of 2000.  Knowing that there were 49 'hits', I'll set `page_size` to 49. Then, we can re-run our for loop for the collections."
      ]
    },
    {
      "cell_type": "code",
      "metadata": {
        "id": "Fn8w_1cf87wJ"
      },
      "source": [
        "response = requests.get(url,\n",
        "                        params={\n",
        "                            'cloud_hosted': 'True',\n",
        "                            'provider': provider,\n",
        "                            'page_size': 49,\n",
        "                        },\n",
        "                        headers={\n",
        "                            'Accept': 'application/json'\n",
        "                        }\n",
        "                       )"
      ],
      "execution_count": 29,
      "outputs": []
    },
    {
      "cell_type": "code",
      "metadata": {
        "id": "5P8dgKNT87wJ",
        "outputId": "bc04d773-83a3-4e56-b144-616f89b9f9e9",
        "colab": {
          "base_uri": "https://localhost:8080/"
        }
      },
      "source": [
        "collections = response.json()['feed']['entry']\n",
        "for collection in collections:\n",
        "    print(f'{collection[\"archive_center\"]} {collection[\"dataset_id\"]} {collection[\"id\"]}')"
      ],
      "execution_count": 30,
      "outputs": [
        {
          "output_type": "stream",
          "name": "stdout",
          "text": [
            "ASF SENTINEL-1A_SLC C1214470488-ASF\n",
            "ASF SENTINEL-1B_SLC C1327985661-ASF\n",
            "ASF SENTINEL-1A_DUAL_POL_GRD_HIGH_RES C1214470533-ASF\n",
            "ASF SENTINEL-1B_DUAL_POL_GRD_HIGH_RES C1327985645-ASF\n",
            "Alaska Satellite Facility Sentinel-1 Interferograms C1595422627-ASF\n",
            "ASF SENTINEL-1A_METADATA_SLC C1214470496-ASF\n",
            "ASF SENTINEL-1A_DUAL_POL_METADATA_GRD_HIGH_RES C1214470576-ASF\n",
            "ASF SENTINEL-1A_METADATA_RAW C1214470532-ASF\n",
            "ASF SENTINEL-1A_METADATA_OCN C1266376001-ASF\n",
            "ASF SENTINEL-1A_OCN C1214472977-ASF\n",
            "ASF SENTINEL-1B_DUAL_POL_GRD_MEDIUM_RES C1327985660-ASF\n",
            "ASF SENTINEL-1B_METADATA_SLC C1327985617-ASF\n",
            "ASF SENTINEL-1A_DUAL_POL_GRD_MEDIUM_RES C1214471521-ASF\n",
            "ASF SENTINEL-1A_DUAL_POL_METADATA_GRD_MEDIUM_RES C1214472336-ASF\n",
            "ASF SENTINEL-1A_RAW C1214470561-ASF\n",
            "ASF SENTINEL-1A_SINGLE_POL_GRD_MEDIUM_RES C1214472994-ASF\n",
            "ASF SENTINEL-1A_SINGLE_POL_METADATA_GRD_HIGH_RES C1214470732-ASF\n",
            "ASF SENTINEL-1A_SINGLE_POL_METADATA_GRD_MEDIUM_RES C1214473170-ASF\n",
            "ASF SENTINEL-1B_DUAL_POL_METADATA_GRD_HIGH_RES C1327985741-ASF\n",
            "ASF SENTINEL-1B_DUAL_POL_METADATA_GRD_MEDIUM_RES C1327985578-ASF\n",
            "ASF SENTINEL-1B_METADATA_OCN C1327985646-ASF\n",
            "ASF SENTINEL-1B_METADATA_RAW C1327985650-ASF\n",
            "ASF SENTINEL-1B_OCN C1327985579-ASF\n",
            "ASF SENTINEL-1B_SINGLE_POL_GRD_MEDIUM_RES C1327985740-ASF\n",
            "ASF SENTINEL-1B_SINGLE_POL_METADATA_GRD_HIGH_RES C1327985619-ASF\n",
            "ASF SENTINEL-1B_SINGLE_POL_METADATA_GRD_MEDIUM_RES C1327985739-ASF\n",
            "ASF ALOS_AVNIR_OBS_ORI C1808440897-ASF\n",
            "ASF SENTINEL-1A_SINGLE_POL_GRD_HIGH_RES C1214470682-ASF\n",
            "ASF SENTINEL-1B_RAW C1327985647-ASF\n",
            "ASF SENTINEL-1B_SINGLE_POL_GRD_HIGH_RES C1327985571-ASF\n",
            "ASF OPERA Coregistered Single-Look Complex from Sentinel-1 Static Layers validated product (Version 1) C2795135668-ASF\n",
            "ASF OPERA Coregistered Single-Look Complex from Sentinel-1 validated product (Version 1) C2777443834-ASF\n",
            "ASF OPERA Radiometric Terrain Corrected SAR Backscatter from Sentinel-1 Static Layers validated product (Version 1) C2795135174-ASF\n",
            "ASF OPERA Radiometric Terrain Corrected SAR Backscatter from Sentinel-1 validated product (Version 1) C2777436413-ASF\n",
            "ASF SENTINEL-1A_DUAL_POL_GRD_FULL_RES C1214471197-ASF\n",
            "ASF SENTINEL-1A_DUAL_POL_METADATA_GRD_FULL_RES C1214471960-ASF\n",
            "ASF SENTINEL-1A_SINGLE_POL_GRD_FULL_RES C1214472978-ASF\n",
            "ASF SENTINEL-1A_SINGLE_POL_METADATA_GRD_FULL_RES C1214473165-ASF\n",
            "Alaska Satellite Facility Sentinel-1 Interferograms - Amplitude C1596065640-ASF\n",
            "Alaska Satellite Facility Sentinel-1 Interferograms - Coherence C1596065639-ASF\n",
            "Alaska Satellite Facility Sentinel-1 Interferograms - Connected Components C1596065641-ASF\n",
            "Alaska Satellite Facility Sentinel-1 Interferograms - Unwrapped Phase C1595765183-ASF\n",
            "ASF STS-59_BROWSE_GRD C1661710578-ASF\n",
            "ASF STS-59_BROWSE_SLC C1661710581-ASF\n",
            "ASF STS-59_GRD C1661710583-ASF\n",
            "ASF STS-59_METADATA_GRD C1661710586-ASF\n",
            "ASF STS-59_METADATA_SLC C1661710588-ASF\n",
            "ASF STS-59_SLC C1661710590-ASF\n",
            "ASF STS-68_BROWSE_GRD C1661710593-ASF\n"
          ]
        }
      ]
    },
    {
      "cell_type": "markdown",
      "metadata": {
        "id": "OPAadac087wJ"
      },
      "source": [
        "## Granule Search\n",
        "In NASA speak, Granules are files.  In this example, we will search for recent Sentinel-1 Ground Range Detected (GRD) Medium Resolution Synthetic Aperture Radar images over the east coast of Greenland.  The data in these files are most useful for sea ice mapping.\n",
        "\n",
        "I'll use the data range 2021-10-17 00:00 to 2021-10-18 23:59:59.\n",
        "\n",
        "I'll use a simple bounding box to search.\n",
        "- SW: 76.08166,-67.1746\n",
        "- NW: 88.19689,21.04862\n",
        "\n",
        "From the collections search, I know the concept ids for Sentinel-1A and Sentinel-1B GRD medium resolution are\n",
        "- C1214472336-ASF\n",
        "- C1327985578-ASF\n",
        "\n",
        "We need to change the resource url to look for granules instead of collections"
      ]
    },
    {
      "cell_type": "code",
      "metadata": {
        "id": "VrSeDlkb87wJ"
      },
      "source": [
        "url = f'{CMR_OPS}/{\"granules\"}'"
      ],
      "execution_count": 31,
      "outputs": []
    },
    {
      "cell_type": "markdown",
      "metadata": {
        "id": "FprVHJJN87wK"
      },
      "source": [
        "We will search by `concept_id`, `temporal`, and `bounding_box`.  Details about these search parameters can be found in the CMR API Documentation.\n",
        "\n",
        "The formatting of the values for each parameter is quite specific.  \n",
        "Temporal parameters are in ISO 8061 format `yyyy-MM-ddTHH:mm:ssZ`.  \n",
        "Bounding box coordinates are lower left longitude, lower left latitude, upper right longitude, upper right latitude."
      ]
    },
    {
      "cell_type": "code",
      "metadata": {
        "id": "b79zT6Cu87wK",
        "outputId": "30e0abfc-c0cc-4607-8cfb-6ba8b5d43b02",
        "colab": {
          "base_uri": "https://localhost:8080/"
        }
      },
      "source": [
        "response = requests.get(url,\n",
        "                        params={\n",
        "                            'concept_id': 'C1214472336-ASF',\n",
        "                            'temporal': '2020-10-17T00:00:00Z,2020-10-18T23:59:59Z',\n",
        "                            'bounding_box': '76.08166,-67.1746,88.19689,21.04862',\n",
        "                            'page_size': 200,\n",
        "                            },\n",
        "                        headers={\n",
        "                            'Accept': 'application/json'\n",
        "                            }\n",
        "                       )\n",
        "print(response.status_code)"
      ],
      "execution_count": 32,
      "outputs": [
        {
          "output_type": "stream",
          "name": "stdout",
          "text": [
            "200\n"
          ]
        }
      ]
    },
    {
      "cell_type": "code",
      "metadata": {
        "id": "LCxBjVj987wK",
        "outputId": "7eb16274-cf05-4909-edf8-dcf611df4445",
        "colab": {
          "base_uri": "https://localhost:8080/"
        }
      },
      "source": [
        "print(response.headers['CMR-Hits'])"
      ],
      "execution_count": 33,
      "outputs": [
        {
          "output_type": "stream",
          "name": "stdout",
          "text": [
            "6\n"
          ]
        }
      ]
    },
    {
      "cell_type": "code",
      "metadata": {
        "id": "mHrdsnkp87wK"
      },
      "source": [
        "granules = response.json()['feed']['entry']\n",
        "#for granule in granules:\n",
        "#    print(f'{granule[\"archive_center\"]} {granule[\"dataset_id\"]} {granule[\"id\"]}')"
      ],
      "execution_count": 34,
      "outputs": []
    },
    {
      "cell_type": "code",
      "source": [
        "for granule in granules:\n",
        "   print(f'{granule[\"dataset_id\"]} {granule[\"id\"]}')"
      ],
      "metadata": {
        "id": "jvSTuF1rCfuS",
        "outputId": "72603374-4a11-48d6-9d6c-6bb58ad524c6",
        "colab": {
          "base_uri": "https://localhost:8080/"
        }
      },
      "execution_count": 37,
      "outputs": [
        {
          "output_type": "stream",
          "name": "stdout",
          "text": [
            "SENTINEL-1A_DUAL_POL_METADATA_GRD_MEDIUM_RES G1954601581-ASF\n",
            "SENTINEL-1A_DUAL_POL_METADATA_GRD_MEDIUM_RES G1954616816-ASF\n",
            "SENTINEL-1A_DUAL_POL_METADATA_GRD_MEDIUM_RES G1954616638-ASF\n",
            "SENTINEL-1A_DUAL_POL_METADATA_GRD_MEDIUM_RES G1954805829-ASF\n",
            "SENTINEL-1A_DUAL_POL_METADATA_GRD_MEDIUM_RES G1954799806-ASF\n",
            "SENTINEL-1A_DUAL_POL_METADATA_GRD_MEDIUM_RES G1954798927-ASF\n"
          ]
        }
      ]
    },
    {
      "cell_type": "code",
      "metadata": {
        "id": "7WUkz1Tr87wK",
        "outputId": "9b58798a-6124-4251-e560-d98299649bf8",
        "colab": {
          "base_uri": "https://localhost:8080/"
        }
      },
      "source": [
        "pprint(granules)"
      ],
      "execution_count": 35,
      "outputs": [
        {
          "output_type": "stream",
          "name": "stdout",
          "text": [
            "[{'browse_flag': True,\n",
            "  'collection_concept_id': 'C1214472336-ASF',\n",
            "  'coordinate_system': 'GEODETIC',\n",
            "  'data_center': 'ASF',\n",
            "  'dataset_id': 'SENTINEL-1A_DUAL_POL_METADATA_GRD_MEDIUM_RES',\n",
            "  'day_night_flag': 'UNSPECIFIED',\n",
            "  'granule_size': '0.05633258819580078',\n",
            "  'id': 'G1954601581-ASF',\n",
            "  'links': [{'href': 'https://datapool.asf.alaska.edu/METADATA_GRD_MD/SA/S1A_EW_GRDM_1SDH_20201017T132009_20201017T132039_034836_040F98_404E.iso.xml',\n",
            "             'hreflang': 'en-US',\n",
            "             'rel': 'http://esipfed.org/ns/fedsearch/1.1/data#',\n",
            "             'title': 'This link provides direct download access to the '\n",
            "                      'granule.'},\n",
            "            {'href': 's3://asf-ngap2w-p-s1-xml-8cf7476b/S1A_EW_GRDM_1SDH_20201017T132009_20201017T132039_034836_040F98_404E.iso.xml',\n",
            "             'hreflang': 'en-US',\n",
            "             'rel': 'http://esipfed.org/ns/fedsearch/1.1/s3#',\n",
            "             'title': 'This link provides direct download access to the '\n",
            "                      'granule.'},\n",
            "            {'href': 'www.asf.alaska.edu/sar-data-sets/sentinel-1',\n",
            "             'hreflang': 'en-US',\n",
            "             'rel': 'http://esipfed.org/ns/fedsearch/1.1/metadata#',\n",
            "             'title': 'ASF DAAC Sentinel-1 data set landing page (VIEW RELATED '\n",
            "                      'INFORMATION)'},\n",
            "            {'href': 'www.asf.alaska.edu/sar-information/sentinel-1-documents-tools',\n",
            "             'hreflang': 'en-US',\n",
            "             'rel': 'http://esipfed.org/ns/fedsearch/1.1/metadata#',\n",
            "             'title': 'ASF DAAC Sentinel-1 User Guide and Technical '\n",
            "                      'Documentation (VIEW RELATED INFORMATION)'},\n",
            "            {'href': 'https://datapool.asf.alaska.edu/BROWSE/SA/S1A_EW_GRDM_1SDH_20201017T132009_20201017T132039_034836_040F98_404E.jpg',\n",
            "             'hreflang': 'en-US',\n",
            "             'rel': 'http://esipfed.org/ns/fedsearch/1.1/browse#'},\n",
            "            {'href': 'https://search.asf.alaska.edu/',\n",
            "             'hreflang': 'en-US',\n",
            "             'inherited': True,\n",
            "             'rel': 'http://esipfed.org/ns/fedsearch/1.1/data#'},\n",
            "            {'href': 'https://earthdata.nasa.gov/data/catalog/alaska-satellite-facility-distributed-active-archive-center-sentinel-1-version-1/',\n",
            "             'hreflang': 'en-US',\n",
            "             'inherited': True,\n",
            "             'rel': 'http://esipfed.org/ns/fedsearch/1.1/metadata#'}],\n",
            "  'online_access_flag': True,\n",
            "  'orbit_calculated_spatial_domains': [{'orbit_number': '34836'}],\n",
            "  'original_format': 'ECHO10',\n",
            "  'polygons': [['-59.163563 87.942726 -60.893669 89.293564 -59.279579 '\n",
            "                '96.119583 -57.619923 94.49958 -59.163563 87.942726']],\n",
            "  'producer_granule_id': 'S1A_EW_GRDM_1SDH_20201017T132009_20201017T132039_034836_040F98_404E',\n",
            "  'time_end': '2020-10-17T13:20:39.000Z',\n",
            "  'time_start': '2020-10-17T13:20:09.000Z',\n",
            "  'title': 'S1A_EW_GRDM_1SDH_20201017T132009_20201017T132039_034836_040F98_404E-METADATA_GRD_MD',\n",
            "  'updated': '2023-03-01T08:06:01.000Z'},\n",
            " {'browse_flag': True,\n",
            "  'collection_concept_id': 'C1214472336-ASF',\n",
            "  'coordinate_system': 'GEODETIC',\n",
            "  'data_center': 'ASF',\n",
            "  'dataset_id': 'SENTINEL-1A_DUAL_POL_METADATA_GRD_MEDIUM_RES',\n",
            "  'day_night_flag': 'UNSPECIFIED',\n",
            "  'granule_size': '0.05633354187011719',\n",
            "  'id': 'G1954616816-ASF',\n",
            "  'links': [{'href': 'https://datapool.asf.alaska.edu/METADATA_GRD_MD/SA/S1A_EW_GRDM_1SDH_20201017T145616_20201017T145720_034837_040FA0_0B4B.iso.xml',\n",
            "             'hreflang': 'en-US',\n",
            "             'rel': 'http://esipfed.org/ns/fedsearch/1.1/data#',\n",
            "             'title': 'This link provides direct download access to the '\n",
            "                      'granule.'},\n",
            "            {'href': 's3://asf-ngap2w-p-s1-xml-8cf7476b/S1A_EW_GRDM_1SDH_20201017T145616_20201017T145720_034837_040FA0_0B4B.iso.xml',\n",
            "             'hreflang': 'en-US',\n",
            "             'rel': 'http://esipfed.org/ns/fedsearch/1.1/s3#',\n",
            "             'title': 'This link provides direct download access to the '\n",
            "                      'granule.'},\n",
            "            {'href': 'www.asf.alaska.edu/sar-data-sets/sentinel-1',\n",
            "             'hreflang': 'en-US',\n",
            "             'rel': 'http://esipfed.org/ns/fedsearch/1.1/metadata#',\n",
            "             'title': 'ASF DAAC Sentinel-1 data set landing page (VIEW RELATED '\n",
            "                      'INFORMATION)'},\n",
            "            {'href': 'www.asf.alaska.edu/sar-information/sentinel-1-documents-tools',\n",
            "             'hreflang': 'en-US',\n",
            "             'rel': 'http://esipfed.org/ns/fedsearch/1.1/metadata#',\n",
            "             'title': 'ASF DAAC Sentinel-1 User Guide and Technical '\n",
            "                      'Documentation (VIEW RELATED INFORMATION)'},\n",
            "            {'href': 'https://datapool.asf.alaska.edu/BROWSE/SA/S1A_EW_GRDM_1SDH_20201017T145616_20201017T145720_034837_040FA0_0B4B.jpg',\n",
            "             'hreflang': 'en-US',\n",
            "             'rel': 'http://esipfed.org/ns/fedsearch/1.1/browse#'},\n",
            "            {'href': 'https://search.asf.alaska.edu/',\n",
            "             'hreflang': 'en-US',\n",
            "             'inherited': True,\n",
            "             'rel': 'http://esipfed.org/ns/fedsearch/1.1/data#'},\n",
            "            {'href': 'https://earthdata.nasa.gov/data/catalog/alaska-satellite-facility-distributed-active-archive-center-sentinel-1-version-1/',\n",
            "             'hreflang': 'en-US',\n",
            "             'inherited': True,\n",
            "             'rel': 'http://esipfed.org/ns/fedsearch/1.1/metadata#'}],\n",
            "  'online_access_flag': True,\n",
            "  'orbit_calculated_spatial_domains': [{'orbit_number': '34837'}],\n",
            "  'original_format': 'ECHO10',\n",
            "  'polygons': [['-66.104271 69.819366 -69.571243 74.741966 -67.42112 83.209152 '\n",
            "                '-64.210938 77.59269 -66.104271 69.819366']],\n",
            "  'producer_granule_id': 'S1A_EW_GRDM_1SDH_20201017T145616_20201017T145720_034837_040FA0_0B4B',\n",
            "  'time_end': '2020-10-17T14:57:20.000Z',\n",
            "  'time_start': '2020-10-17T14:56:16.000Z',\n",
            "  'title': 'S1A_EW_GRDM_1SDH_20201017T145616_20201017T145720_034837_040FA0_0B4B-METADATA_GRD_MD',\n",
            "  'updated': '2023-03-01T07:55:17.000Z'},\n",
            " {'browse_flag': True,\n",
            "  'collection_concept_id': 'C1214472336-ASF',\n",
            "  'coordinate_system': 'GEODETIC',\n",
            "  'data_center': 'ASF',\n",
            "  'dataset_id': 'SENTINEL-1A_DUAL_POL_METADATA_GRD_MEDIUM_RES',\n",
            "  'day_night_flag': 'UNSPECIFIED',\n",
            "  'granule_size': '0.05633354187011719',\n",
            "  'id': 'G1954616638-ASF',\n",
            "  'links': [{'href': 'https://datapool.asf.alaska.edu/METADATA_GRD_MD/SA/S1A_EW_GRDM_1SDH_20201017T145720_20201017T145820_034837_040FA0_72CE.iso.xml',\n",
            "             'hreflang': 'en-US',\n",
            "             'rel': 'http://esipfed.org/ns/fedsearch/1.1/data#',\n",
            "             'title': 'This link provides direct download access to the '\n",
            "                      'granule.'},\n",
            "            {'href': 's3://asf-ngap2w-p-s1-xml-8cf7476b/S1A_EW_GRDM_1SDH_20201017T145720_20201017T145820_034837_040FA0_72CE.iso.xml',\n",
            "             'hreflang': 'en-US',\n",
            "             'rel': 'http://esipfed.org/ns/fedsearch/1.1/s3#',\n",
            "             'title': 'This link provides direct download access to the '\n",
            "                      'granule.'},\n",
            "            {'href': 'www.asf.alaska.edu/sar-data-sets/sentinel-1',\n",
            "             'hreflang': 'en-US',\n",
            "             'rel': 'http://esipfed.org/ns/fedsearch/1.1/metadata#',\n",
            "             'title': 'ASF DAAC Sentinel-1 data set landing page (VIEW RELATED '\n",
            "                      'INFORMATION)'},\n",
            "            {'href': 'www.asf.alaska.edu/sar-information/sentinel-1-documents-tools',\n",
            "             'hreflang': 'en-US',\n",
            "             'rel': 'http://esipfed.org/ns/fedsearch/1.1/metadata#',\n",
            "             'title': 'ASF DAAC Sentinel-1 User Guide and Technical '\n",
            "                      'Documentation (VIEW RELATED INFORMATION)'},\n",
            "            {'href': 'https://datapool.asf.alaska.edu/BROWSE/SA/S1A_EW_GRDM_1SDH_20201017T145720_20201017T145820_034837_040FA0_72CE.jpg',\n",
            "             'hreflang': 'en-US',\n",
            "             'rel': 'http://esipfed.org/ns/fedsearch/1.1/browse#'},\n",
            "            {'href': 'https://search.asf.alaska.edu/',\n",
            "             'hreflang': 'en-US',\n",
            "             'inherited': True,\n",
            "             'rel': 'http://esipfed.org/ns/fedsearch/1.1/data#'},\n",
            "            {'href': 'https://earthdata.nasa.gov/data/catalog/alaska-satellite-facility-distributed-active-archive-center-sentinel-1-version-1/',\n",
            "             'hreflang': 'en-US',\n",
            "             'inherited': True,\n",
            "             'rel': 'http://esipfed.org/ns/fedsearch/1.1/metadata#'}],\n",
            "  'online_access_flag': True,\n",
            "  'orbit_calculated_spatial_domains': [{'orbit_number': '34837'}],\n",
            "  'original_format': 'ECHO10',\n",
            "  'polygons': [['-62.765087 66.277176 -66.103951 69.81897 -64.211227 77.590164 '\n",
            "                '-61.060097 73.427185 -62.765087 66.277176']],\n",
            "  'producer_granule_id': 'S1A_EW_GRDM_1SDH_20201017T145720_20201017T145820_034837_040FA0_72CE',\n",
            "  'time_end': '2020-10-17T14:58:20.000Z',\n",
            "  'time_start': '2020-10-17T14:57:20.000Z',\n",
            "  'title': 'S1A_EW_GRDM_1SDH_20201017T145720_20201017T145820_034837_040FA0_72CE-METADATA_GRD_MD',\n",
            "  'updated': '2023-03-01T08:00:45.000Z'},\n",
            " {'browse_flag': True,\n",
            "  'collection_concept_id': 'C1214472336-ASF',\n",
            "  'coordinate_system': 'GEODETIC',\n",
            "  'data_center': 'ASF',\n",
            "  'dataset_id': 'SENTINEL-1A_DUAL_POL_METADATA_GRD_MEDIUM_RES',\n",
            "  'day_night_flag': 'UNSPECIFIED',\n",
            "  'granule_size': '0.05633354187011719',\n",
            "  'id': 'G1954805829-ASF',\n",
            "  'links': [{'href': 'https://datapool.asf.alaska.edu/METADATA_GRD_MD/SA/S1A_EW_GRDM_1SDH_20201018T135856_20201018T140000_034851_041027_2659.iso.xml',\n",
            "             'hreflang': 'en-US',\n",
            "             'rel': 'http://esipfed.org/ns/fedsearch/1.1/data#',\n",
            "             'title': 'This link provides direct download access to the '\n",
            "                      'granule.'},\n",
            "            {'href': 's3://asf-ngap2w-p-s1-xml-8cf7476b/S1A_EW_GRDM_1SDH_20201018T135856_20201018T140000_034851_041027_2659.iso.xml',\n",
            "             'hreflang': 'en-US',\n",
            "             'rel': 'http://esipfed.org/ns/fedsearch/1.1/s3#',\n",
            "             'title': 'This link provides direct download access to the '\n",
            "                      'granule.'},\n",
            "            {'href': 'www.asf.alaska.edu/sar-data-sets/sentinel-1',\n",
            "             'hreflang': 'en-US',\n",
            "             'rel': 'http://esipfed.org/ns/fedsearch/1.1/metadata#',\n",
            "             'title': 'ASF DAAC Sentinel-1 data set landing page (VIEW RELATED '\n",
            "                      'INFORMATION)'},\n",
            "            {'href': 'www.asf.alaska.edu/sar-information/sentinel-1-documents-tools',\n",
            "             'hreflang': 'en-US',\n",
            "             'rel': 'http://esipfed.org/ns/fedsearch/1.1/metadata#',\n",
            "             'title': 'ASF DAAC Sentinel-1 User Guide and Technical '\n",
            "                      'Documentation (VIEW RELATED INFORMATION)'},\n",
            "            {'href': 'https://datapool.asf.alaska.edu/BROWSE/SA/S1A_EW_GRDM_1SDH_20201018T135856_20201018T140000_034851_041027_2659.jpg',\n",
            "             'hreflang': 'en-US',\n",
            "             'rel': 'http://esipfed.org/ns/fedsearch/1.1/browse#'},\n",
            "            {'href': 'https://search.asf.alaska.edu/',\n",
            "             'hreflang': 'en-US',\n",
            "             'inherited': True,\n",
            "             'rel': 'http://esipfed.org/ns/fedsearch/1.1/data#'},\n",
            "            {'href': 'https://earthdata.nasa.gov/data/catalog/alaska-satellite-facility-distributed-active-archive-center-sentinel-1-version-1/',\n",
            "             'hreflang': 'en-US',\n",
            "             'inherited': True,\n",
            "             'rel': 'http://esipfed.org/ns/fedsearch/1.1/metadata#'}],\n",
            "  'online_access_flag': True,\n",
            "  'orbit_calculated_spatial_domains': [{'orbit_number': '34851'}],\n",
            "  'original_format': 'ECHO10',\n",
            "  'polygons': [['-65.236397 83.18071 -68.712318 87.887711 -66.630493 96.161102 '\n",
            "                '-63.400326 90.779785 -65.236397 83.18071']],\n",
            "  'producer_granule_id': 'S1A_EW_GRDM_1SDH_20201018T135856_20201018T140000_034851_041027_2659',\n",
            "  'time_end': '2020-10-18T14:00:00.000Z',\n",
            "  'time_start': '2020-10-18T13:58:56.000Z',\n",
            "  'title': 'S1A_EW_GRDM_1SDH_20201018T135856_20201018T140000_034851_041027_2659-METADATA_GRD_MD',\n",
            "  'updated': '2023-03-01T07:57:26.000Z'},\n",
            " {'browse_flag': True,\n",
            "  'collection_concept_id': 'C1214472336-ASF',\n",
            "  'coordinate_system': 'GEODETIC',\n",
            "  'data_center': 'ASF',\n",
            "  'dataset_id': 'SENTINEL-1A_DUAL_POL_METADATA_GRD_MEDIUM_RES',\n",
            "  'day_night_flag': 'UNSPECIFIED',\n",
            "  'granule_size': '0.05633354187011719',\n",
            "  'id': 'G1954799806-ASF',\n",
            "  'links': [{'href': 'https://datapool.asf.alaska.edu/METADATA_GRD_MD/SA/S1A_EW_GRDM_1SDH_20201018T140000_20201018T140100_034851_041027_2777.iso.xml',\n",
            "             'hreflang': 'en-US',\n",
            "             'rel': 'http://esipfed.org/ns/fedsearch/1.1/data#',\n",
            "             'title': 'This link provides direct download access to the '\n",
            "                      'granule.'},\n",
            "            {'href': 's3://asf-ngap2w-p-s1-xml-8cf7476b/S1A_EW_GRDM_1SDH_20201018T140000_20201018T140100_034851_041027_2777.iso.xml',\n",
            "             'hreflang': 'en-US',\n",
            "             'rel': 'http://esipfed.org/ns/fedsearch/1.1/s3#',\n",
            "             'title': 'This link provides direct download access to the '\n",
            "                      'granule.'},\n",
            "            {'href': 'www.asf.alaska.edu/sar-data-sets/sentinel-1',\n",
            "             'hreflang': 'en-US',\n",
            "             'rel': 'http://esipfed.org/ns/fedsearch/1.1/metadata#',\n",
            "             'title': 'ASF DAAC Sentinel-1 data set landing page (VIEW RELATED '\n",
            "                      'INFORMATION)'},\n",
            "            {'href': 'www.asf.alaska.edu/sar-information/sentinel-1-documents-tools',\n",
            "             'hreflang': 'en-US',\n",
            "             'rel': 'http://esipfed.org/ns/fedsearch/1.1/metadata#',\n",
            "             'title': 'ASF DAAC Sentinel-1 User Guide and Technical '\n",
            "                      'Documentation (VIEW RELATED INFORMATION)'},\n",
            "            {'href': 'https://datapool.asf.alaska.edu/BROWSE/SA/S1A_EW_GRDM_1SDH_20201018T140000_20201018T140100_034851_041027_2777.jpg',\n",
            "             'hreflang': 'en-US',\n",
            "             'rel': 'http://esipfed.org/ns/fedsearch/1.1/browse#'},\n",
            "            {'href': 'https://search.asf.alaska.edu/',\n",
            "             'hreflang': 'en-US',\n",
            "             'inherited': True,\n",
            "             'rel': 'http://esipfed.org/ns/fedsearch/1.1/data#'},\n",
            "            {'href': 'https://earthdata.nasa.gov/data/catalog/alaska-satellite-facility-distributed-active-archive-center-sentinel-1-version-1/',\n",
            "             'hreflang': 'en-US',\n",
            "             'inherited': True,\n",
            "             'rel': 'http://esipfed.org/ns/fedsearch/1.1/metadata#'}],\n",
            "  'online_access_flag': True,\n",
            "  'orbit_calculated_spatial_domains': [{'orbit_number': '34851'}],\n",
            "  'original_format': 'ECHO10',\n",
            "  'polygons': [['-61.876564 79.848251 -65.236069 83.180344 -63.400402 90.778 '\n",
            "                '-60.217258 86.840034 -61.876564 79.848251']],\n",
            "  'producer_granule_id': 'S1A_EW_GRDM_1SDH_20201018T140000_20201018T140100_034851_041027_2777',\n",
            "  'time_end': '2020-10-18T14:01:00.000Z',\n",
            "  'time_start': '2020-10-18T14:00:00.000Z',\n",
            "  'title': 'S1A_EW_GRDM_1SDH_20201018T140000_20201018T140100_034851_041027_2777-METADATA_GRD_MD',\n",
            "  'updated': '2023-03-01T08:08:11.000Z'},\n",
            " {'browse_flag': True,\n",
            "  'collection_concept_id': 'C1214472336-ASF',\n",
            "  'coordinate_system': 'GEODETIC',\n",
            "  'data_center': 'ASF',\n",
            "  'dataset_id': 'SENTINEL-1A_DUAL_POL_METADATA_GRD_MEDIUM_RES',\n",
            "  'day_night_flag': 'UNSPECIFIED',\n",
            "  'granule_size': '0.05633258819580078',\n",
            "  'id': 'G1954798927-ASF',\n",
            "  'links': [{'href': 'https://datapool.asf.alaska.edu/METADATA_GRD_MD/SA/S1A_EW_GRDM_1SDH_20201018T140100_20201018T140148_034851_041027_C95D.iso.xml',\n",
            "             'hreflang': 'en-US',\n",
            "             'rel': 'http://esipfed.org/ns/fedsearch/1.1/data#',\n",
            "             'title': 'This link provides direct download access to the '\n",
            "                      'granule.'},\n",
            "            {'href': 's3://asf-ngap2w-p-s1-xml-8cf7476b/S1A_EW_GRDM_1SDH_20201018T140100_20201018T140148_034851_041027_C95D.iso.xml',\n",
            "             'hreflang': 'en-US',\n",
            "             'rel': 'http://esipfed.org/ns/fedsearch/1.1/s3#',\n",
            "             'title': 'This link provides direct download access to the '\n",
            "                      'granule.'},\n",
            "            {'href': 'www.asf.alaska.edu/sar-data-sets/sentinel-1',\n",
            "             'hreflang': 'en-US',\n",
            "             'rel': 'http://esipfed.org/ns/fedsearch/1.1/metadata#',\n",
            "             'title': 'ASF DAAC Sentinel-1 data set landing page (VIEW RELATED '\n",
            "                      'INFORMATION)'},\n",
            "            {'href': 'www.asf.alaska.edu/sar-information/sentinel-1-documents-tools',\n",
            "             'hreflang': 'en-US',\n",
            "             'rel': 'http://esipfed.org/ns/fedsearch/1.1/metadata#',\n",
            "             'title': 'ASF DAAC Sentinel-1 User Guide and Technical '\n",
            "                      'Documentation (VIEW RELATED INFORMATION)'},\n",
            "            {'href': 'https://datapool.asf.alaska.edu/BROWSE/SA/S1A_EW_GRDM_1SDH_20201018T140100_20201018T140148_034851_041027_C95D.jpg',\n",
            "             'hreflang': 'en-US',\n",
            "             'rel': 'http://esipfed.org/ns/fedsearch/1.1/browse#'},\n",
            "            {'href': 'https://search.asf.alaska.edu/',\n",
            "             'hreflang': 'en-US',\n",
            "             'inherited': True,\n",
            "             'rel': 'http://esipfed.org/ns/fedsearch/1.1/data#'},\n",
            "            {'href': 'https://earthdata.nasa.gov/data/catalog/alaska-satellite-facility-distributed-active-archive-center-sentinel-1-version-1/',\n",
            "             'hreflang': 'en-US',\n",
            "             'inherited': True,\n",
            "             'rel': 'http://esipfed.org/ns/fedsearch/1.1/metadata#'}],\n",
            "  'online_access_flag': True,\n",
            "  'orbit_calculated_spatial_domains': [{'orbit_number': '34851'}],\n",
            "  'original_format': 'ECHO10',\n",
            "  'polygons': [['-59.113174 77.623962 -61.876228 79.847961 -60.217464 '\n",
            "                '86.837784 -57.570774 84.174744 -59.113174 77.623962']],\n",
            "  'producer_granule_id': 'S1A_EW_GRDM_1SDH_20201018T140100_20201018T140148_034851_041027_C95D',\n",
            "  'time_end': '2020-10-18T14:01:48.000Z',\n",
            "  'time_start': '2020-10-18T14:01:00.000Z',\n",
            "  'title': 'S1A_EW_GRDM_1SDH_20201018T140100_20201018T140148_034851_041027_C95D-METADATA_GRD_MD',\n",
            "  'updated': '2023-03-01T08:02:49.000Z'}]\n"
          ]
        }
      ]
    }
  ],
  "metadata": {
    "kernelspec": {
      "display_name": "Python 3",
      "language": "python",
      "name": "python3"
    },
    "colab": {
      "provenance": [],
      "include_colab_link": true
    }
  },
  "nbformat": 4,
  "nbformat_minor": 0
}